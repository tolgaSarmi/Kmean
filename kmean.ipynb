{
  "cells": [
    {
      "cell_type": "markdown",
      "metadata": {
        "id": "view-in-github",
        "colab_type": "text"
      },
      "source": [
        "<a href=\"https://colab.research.google.com/github/tolgaSarmi/Kmean/blob/main/kmean.ipynb\" target=\"_parent\"><img src=\"https://colab.research.google.com/assets/colab-badge.svg\" alt=\"Open In Colab\"/></a>"
      ]
    },
    {
      "cell_type": "code",
      "execution_count": 2,
      "id": "d3229e3f-6b64-4b38-be21-bde45e5597e6",
      "metadata": {
        "colab": {
          "base_uri": "https://localhost:8080/"
        },
        "id": "d3229e3f-6b64-4b38-be21-bde45e5597e6",
        "outputId": "16a733ff-cd15-4fc0-e39a-0a7b79a3bc54"
      },
      "outputs": [
        {
          "output_type": "stream",
          "name": "stdout",
          "text": [
            "Mounted at /content/gdrive\n"
          ]
        }
      ],
      "source": [
        "from google.colab import drive\n",
        "drive.mount(\"/content/gdrive\")"
      ]
    },
    {
      "cell_type": "code",
      "source": [
        "import os\n",
        "import numpy as np\n",
        "import seaborn as sns\n",
        "import matplotlib.pyplot as plt\n",
        "\n",
        "def create_centroids(data1, k): \n",
        "    # To create centroids in dataset\n",
        "    \n",
        "    centroids1=np.empty((k,8))\n",
        "    # Selecting random integers between 0 and 800.000\n",
        "    for i in range(k):\n",
        "        centroids1[i]=data1[np.random.randint(0, len(data1))]\n",
        "    return centroids1\n",
        "\n",
        "def calculate_distance(data1, point):\n",
        "    # To calculate the distances\n",
        "    \n",
        "    data2=np.sum(np.absolute(data1-point), axis=1) #Broadcasting, calculating absolute values and summing.\n",
        "    return data2\n",
        "\n",
        "def assign_centroids(distances1):\n",
        "    # To find the indices of minimum values\n",
        "    \n",
        "    assign=np.argmin(distances1, axis=0) # Columnwise operation\n",
        "    return assign\n",
        "\n",
        "def move_centroids(data1, assignedCentroids1, centroids1):\n",
        "    # To calculate the mean of each feature for each category in order to assign new centroids\n",
        "    \n",
        "    groupedData=np.column_stack((data1,assignedCentroids1)) # To add categories to data in order to grouping.\n",
        "     \n",
        "    # To iterate through each category\n",
        "    lenght= len(np.unique(assignedCentroids1)) \n",
        "    for i in range(lenght):\n",
        "        group=groupedData[groupedData[:, -1]==i] # Filter each category\n",
        "        newCentroid=np.mean(group, axis = 0) # Calculate means of each column\n",
        "        centroids1[i]=newCentroid[:-1]  # Do not add category indice\n",
        "\n",
        "def distortion_cost(data1, assignedCentroids1, centroids1):\n",
        "    # To calculate distortion cost\n",
        "    \n",
        "    sumDifference=np.zeros_like(centroids1[0]) # Create a (k, ) array filled with zeros.\n",
        "    groupedData=np.column_stack((data1,assignedCentroids1)) # To add categories to data in order to grouping.\n",
        "    \n",
        "    # To iterate through each category\n",
        "    lenght= len(np.unique(assignedCentroids1)) \n",
        "    for i in range(lenght):\n",
        "        group=groupedData[groupedData[:, -1]==i]  # Filter each category\n",
        "        \n",
        "        sumDifference+=np.sum(np.power(np.absolute(group[:,:-1]-centroids1[i]),2),axis=0) # Calculate variance in each category and \n",
        "                                                                                            #add their cumulative to the array \n",
        "    return np.sum(sumDifference/len(data1))\n",
        "\n",
        "def restart_KMeans(data, k, numOfAssingnments=10, numOfRepeats=10):\n",
        "    distortion=[]\n",
        "    for i in range(numOfAssingnments):\n",
        "         # Creating centroids \n",
        "        centroids=create_centroids(data, k)\n",
        "        \n",
        "        for j in range(numOfRepeats):# To select different starting centroids and to repeat the process several time.\n",
        "            # Calculating the distance between each point in centroids and other points\n",
        "            lst=[]\n",
        "            for i in centroids:\n",
        "                lst.append(calculate_distance(data, i))\n",
        "            distances=np.array(lst) #(k,800000) array popuated with distance of each instance to each centroids\n",
        "\n",
        "            # To find the nearest centroid\n",
        "            assignedCentroids=assign_centroids(distances) \n",
        "\n",
        "            move_centroids(data, assignedCentroids, centroids) \n",
        "        \n",
        "          # To check the performance of the algorithm\n",
        "        \n",
        "        distortion.append(distortion_cost(data, assignedCentroids, centroids))\n",
        "    return min(distortion),k\n",
        "    \n",
        "\n",
        "def main():\n",
        "    \n",
        "    # Loading data from CVS file\n",
        "    data = np.loadtxt('/content/gdrive/MyDrive/clusteringData.csv', delimiter=',')\n",
        "    y=[]\n",
        "    x=[]\n",
        "    for k in range(1, 11): # Getting distortion cost function for different number of categories\n",
        "        result=restart_KMeans(data, k, 10, 10)\n",
        "        y.append(result[0])\n",
        "        x.append(result[1])\n",
        "    sns.lineplot(x,y) \n",
        "    plt.show()\n",
        "    \n",
        "# Run the main() function\n",
        "if __name__ == '__main__':\n",
        "    main()"
      ],
      "metadata": {
        "colab": {
          "base_uri": "https://localhost:8080/",
          "height": 320
        },
        "id": "iqPD31wbkA8_",
        "outputId": "119cbc94-bf71-4c92-832a-bf771af0dd5c"
      },
      "id": "iqPD31wbkA8_",
      "execution_count": 3,
      "outputs": [
        {
          "output_type": "stream",
          "name": "stderr",
          "text": [
            "/usr/local/lib/python3.8/dist-packages/seaborn/_decorators.py:36: FutureWarning: Pass the following variables as keyword args: x, y. From version 0.12, the only valid positional argument will be `data`, and passing other arguments without an explicit keyword will result in an error or misinterpretation.\n",
            "  warnings.warn(\n"
          ]
        },
        {
          "output_type": "display_data",
          "data": {
            "text/plain": [
              "<Figure size 432x288 with 1 Axes>"
            ],
            "image/png": "[encoded data removed]"
          },
          "metadata": {
            "needs_background": "light"
          }
        }
      ]
    }
  ],
  "metadata": {
    "kernelspec": {
      "display_name": "Python 3 (ipykernel)",
      "language": "python",
      "name": "python3"
    },
    "language_info": {
      "codemirror_mode": {
        "name": "ipython",
        "version": 3
      },
      "file_extension": ".py",
      "mimetype": "text/x-python",
      "name": "python",
      "nbconvert_exporter": "python",
      "pygments_lexer": "ipython3",
      "version": "3.9.12"
    },
    "colab": {
      "provenance": [],
      "include_colab_link": true
    }
  },
  "nbformat": 4,
  "nbformat_minor": 5
}